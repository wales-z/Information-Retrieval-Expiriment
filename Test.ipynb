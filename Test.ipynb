{
 "cells": [
  {
   "cell_type": "code",
   "execution_count": 1,
   "metadata": {},
   "outputs": [],
   "source": [
    "from utils import *\n",
    "train_data,val_data,test_data,user_data,movie_data = data_preprocess()\n"
   ]
  },
  {
   "cell_type": "code",
   "execution_count": 2,
   "metadata": {},
   "outputs": [],
   "source": [
    "n_movie = movie_data.shape[0]\n",
    "n_user = user_data.shape[0]\n",
    "\n",
    "n_type = 18"
   ]
  },
  {
   "cell_type": "code",
   "execution_count": 3,
   "metadata": {},
   "outputs": [
    {
     "name": "stderr",
     "output_type": "stream",
     "text": [
      "C:\\Users\\VIP\\.conda\\envs\\wade\\lib\\site-packages\\sklearn\\decomposition\\_nmf.py:1090: ConvergenceWarning: Maximum number of iterations 500 reached. Increase it to improve convergence.\n",
      "  warnings.warn(\"Maximum number of iterations %d reached. Increase it to\"\n"
     ]
    },
    {
     "name": "stdout",
     "output_type": "stream",
     "text": [
      "Accuracy: 5.23%\n"
     ]
    }
   ],
   "source": [
    "from sklearn.decomposition import NMF\n",
    "\n",
    "\n",
    "model = NMF(n_components=n_type, init='random', random_state=0,max_iter=500,alpha=0.1)\n",
    "p = model.fit_transform(train_data,W = (n_user,n_type), H = (n_type,n_movie))\n",
    "q = model.components_\n",
    "score = evaluate(p,q.T,test_data)\n",
    "print(\"Accuracy: {:.2f}%\".format(score*100))"
   ]
  },
  {
   "cell_type": "code",
   "execution_count": 4,
   "metadata": {},
   "outputs": [
    {
     "name": "stdout",
     "output_type": "stream",
     "text": [
      "epoch: 0, loss is 9.143825897373132\n",
      "accuracy is 6.53%\n",
      "epoch: 25, loss is 9.125049407222107\n",
      "accuracy is 6.55%\n"
     ]
    },
    {
     "ename": "KeyboardInterrupt",
     "evalue": "",
     "output_type": "error",
     "traceback": [
      "\u001b[1;31m---------------------------------------------------------------------------\u001b[0m",
      "\u001b[1;31mKeyboardInterrupt\u001b[0m                         Traceback (most recent call last)",
      "\u001b[1;32m<ipython-input-4-ca87871e9f06>\u001b[0m in \u001b[0;36m<module>\u001b[1;34m\u001b[0m\n\u001b[0;32m     18\u001b[0m \u001b[1;33m\u001b[0m\u001b[0m\n\u001b[0;32m     19\u001b[0m \u001b[1;32mfor\u001b[0m \u001b[0mi\u001b[0m \u001b[1;32min\u001b[0m \u001b[0mrange\u001b[0m\u001b[1;33m(\u001b[0m\u001b[0mepoch\u001b[0m\u001b[1;33m)\u001b[0m\u001b[1;33m:\u001b[0m\u001b[1;33m\u001b[0m\u001b[1;33m\u001b[0m\u001b[0m\n\u001b[1;32m---> 20\u001b[1;33m     \u001b[0mr_mat\u001b[0m \u001b[1;33m=\u001b[0m \u001b[0mnp\u001b[0m\u001b[1;33m.\u001b[0m\u001b[0mdot\u001b[0m\u001b[1;33m(\u001b[0m\u001b[0mp_mat\u001b[0m\u001b[1;33m,\u001b[0m\u001b[0mq_mat\u001b[0m\u001b[1;33m.\u001b[0m\u001b[0mT\u001b[0m\u001b[1;33m)\u001b[0m\u001b[1;33m\u001b[0m\u001b[1;33m\u001b[0m\u001b[0m\n\u001b[0m\u001b[0;32m     21\u001b[0m     \u001b[0mloss\u001b[0m\u001b[1;33m,\u001b[0m \u001b[0mgrad\u001b[0m \u001b[1;33m=\u001b[0m \u001b[0mcompute_MSEloss\u001b[0m\u001b[1;33m(\u001b[0m\u001b[0mtrain_data\u001b[0m\u001b[1;33m,\u001b[0m\u001b[0mr_mat\u001b[0m\u001b[1;33m,\u001b[0m\u001b[0mp_mat\u001b[0m\u001b[1;33m,\u001b[0m\u001b[0mq_mat\u001b[0m\u001b[1;33m,\u001b[0m\u001b[0mreg\u001b[0m\u001b[1;33m)\u001b[0m\u001b[1;33m\u001b[0m\u001b[1;33m\u001b[0m\u001b[0m\n\u001b[0;32m     22\u001b[0m     \u001b[0mp_mat\u001b[0m \u001b[1;33m=\u001b[0m \u001b[0mp_mat\u001b[0m \u001b[1;33m-\u001b[0m \u001b[0malpha\u001b[0m\u001b[1;33m*\u001b[0m\u001b[0mgrad\u001b[0m\u001b[1;33m[\u001b[0m\u001b[1;36m0\u001b[0m\u001b[1;33m]\u001b[0m\u001b[1;33m\u001b[0m\u001b[1;33m\u001b[0m\u001b[0m\n",
      "\u001b[1;32m<__array_function__ internals>\u001b[0m in \u001b[0;36mdot\u001b[1;34m(*args, **kwargs)\u001b[0m\n",
      "\u001b[1;31mKeyboardInterrupt\u001b[0m: "
     ]
    }
   ],
   "source": [
    "epoch = 500\n",
    "alpha = 0.1\n",
    "reg = 0.01\n",
    "\n",
    "movie_type ={'Action':0,'Adventure':1,'Animation':2,'Children\\'s':3,'Comedy':4,'Crime':5,'Documentary':6,'Drama':7,'Fantasy':8,'Film-Noir':9,\\\n",
    "    'Horror':10,'Musical':11,'Mystery':12,'Romance':13,'Sci-Fi':14,'Thriller':15,'War':16,'Western':17}\n",
    "\n",
    "\n",
    "p = torch.empty(n_user,n_type)\n",
    "p_mat = nn.init.kaiming_normal_(p).numpy()\n",
    "\n",
    "q = torch.empty(n_movie,n_type)\n",
    "q_mat = nn.init.kaiming_normal_(q).numpy()\n",
    "\n",
    "q_mat = np.random.normal(size=(n_movie,n_type))\n",
    "p_mat = np.random.normal(size=(n_user,n_type))\n",
    "\n",
    "\n",
    "for i in range(epoch):\n",
    "    r_mat = np.dot(p_mat,q_mat.T)\n",
    "    loss, grad = compute_MSEloss(train_data,r_mat,p_mat,q_mat,reg)\n",
    "    p_mat = p_mat - alpha*grad[0]\n",
    "    q_mat = q_mat - alpha*grad[1]\n",
    "    if i%25==0:\n",
    "        print(\"epoch: {}, loss is {}\".format(i,loss))\n",
    "        acc = evaluate(p_mat,q_mat,val_data)\n",
    "        print(\"accuracy is {:.2f}%\".format(acc*100))\n",
    "\n",
    "\n",
    "score = evaluate(p_mat,q_mat,test_data)\n",
    "print(\"Accuracy: {:.2f}%\".format(score*100))\n"
   ]
  },
  {
   "cell_type": "code",
   "execution_count": 217,
   "metadata": {},
   "outputs": [
    {
     "name": "stdout",
     "output_type": "stream",
     "text": [
      "Accuracy: 1.64%\n"
     ]
    }
   ],
   "source": []
  },
  {
   "cell_type": "code",
   "execution_count": null,
   "metadata": {},
   "outputs": [],
   "source": []
  }
 ],
 "metadata": {
  "interpreter": {
   "hash": "b95a36c5d97a7abb2c3a66586d0c2095cbbfc0b059a1bebb3596914c2adf0bbf"
  },
  "kernelspec": {
   "display_name": "Python 3",
   "language": "python",
   "name": "python3"
  },
  "language_info": {
   "codemirror_mode": {
    "name": "ipython",
    "version": 3
   },
   "file_extension": ".py",
   "mimetype": "text/x-python",
   "name": "python",
   "nbconvert_exporter": "python",
   "pygments_lexer": "ipython3",
   "version": "3.8.8"
  }
 },
 "nbformat": 4,
 "nbformat_minor": 2
}
